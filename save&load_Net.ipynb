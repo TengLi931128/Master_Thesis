{
 "cells": [
  {
   "cell_type": "code",
   "execution_count": 1,
   "metadata": {},
   "outputs": [
    {
     "data": {
      "text/plain": [
       "'\\nThis is a practice of saving and reloading Net\\nTeng Li\\n07.10.2021\\n'"
      ]
     },
     "execution_count": 1,
     "metadata": {},
     "output_type": "execute_result"
    }
   ],
   "source": [
    "'''\n",
    "This is a practice of saving and reloading Net\n",
    "Teng Li\n",
    "07.10.2021\n",
    "'''"
   ]
  },
  {
   "cell_type": "code",
   "execution_count": 11,
   "metadata": {},
   "outputs": [],
   "source": [
    "import torch\n",
    "import torch.nn as nn\n",
    "\n",
    "DEVICE = torch.device(\"cuda\" if torch.cuda.is_available() else \"cpu\") # use GPU if available\n",
    "# Firstly build a Net as example\n",
    "class Net(nn.Module):\n",
    "     def __init__(self):#init the module\n",
    "        super().__init__()\n",
    "        #Conv layers\n",
    "        self.fc = nn.Linear(3,2)\n",
    "    \n",
    "     def forward(self,x):\n",
    "        out = self.fc(x)\n",
    "        return out\n"
   ]
  },
  {
   "cell_type": "code",
   "execution_count": 12,
   "metadata": {},
   "outputs": [
    {
     "name": "stdout",
     "output_type": "stream",
     "text": [
      "Parameter containing:\n",
      "tensor([[-0.3526,  0.4220, -0.0125],\n",
      "        [ 0.2452,  0.1754, -0.4690]], requires_grad=True)\n",
      "Parameter containing:\n",
      "tensor([0.0134, 0.0091], requires_grad=True)\n"
     ]
    }
   ],
   "source": [
    "#init Net\n",
    "net = Net().to(DEVICE)\n",
    "#show weights\n",
    "for p in net.parameters():\n",
    "    print(p)"
   ]
  },
  {
   "cell_type": "code",
   "execution_count": 20,
   "metadata": {},
   "outputs": [
    {
     "name": "stderr",
     "output_type": "stream",
     "text": [
      "/home/teng/anaconda3/lib/python3.7/site-packages/torch/serialization.py:402: UserWarning: Couldn't retrieve source code for container of type Net. It won't be checked for correctness upon loading.\n",
      "  \"type \" + obj.__name__ + \". It won't be checked \"\n"
     ]
    }
   ],
   "source": [
    "# save net \n",
    "torch.save(net,'net.pkl')\n",
    "# or save net's state\n",
    "torch.save(net.state_dict(),'net_state.pkl')"
   ]
  },
  {
   "cell_type": "code",
   "execution_count": 21,
   "metadata": {},
   "outputs": [
    {
     "name": "stdout",
     "output_type": "stream",
     "text": [
      "Parameter containing:\n",
      "tensor([[-0.3526,  0.4220, -0.0125],\n",
      "        [ 0.2452,  0.1754, -0.4690]], requires_grad=True)\n",
      "Parameter containing:\n",
      "tensor([0.0134, 0.0091], requires_grad=True)\n"
     ]
    }
   ],
   "source": [
    "# now reload net\n",
    "# reload from 'net.pkl'\n",
    "if torch.cuda.is_available():\n",
    "    net_new = torch.load('net.pkl').cuda()\n",
    "else:\n",
    "    net_new = torch.load('net.pkl')\n",
    "# show weights\n",
    "for p in net_new.parameters():\n",
    "    print(p)"
   ]
  },
  {
   "cell_type": "code",
   "execution_count": 23,
   "metadata": {},
   "outputs": [
    {
     "name": "stdout",
     "output_type": "stream",
     "text": [
      "Parameter containing:\n",
      "tensor([[-0.3526,  0.4220, -0.0125],\n",
      "        [ 0.2452,  0.1754, -0.4690]], requires_grad=True)\n",
      "Parameter containing:\n",
      "tensor([0.0134, 0.0091], requires_grad=True)\n"
     ]
    }
   ],
   "source": [
    "# or reload from 'net_state.pkl'\n",
    "net_new1.load_state_dict(torch.load('net_state.pkl'))\n",
    "# show weights\n",
    "for p in net_new1.parameters():\n",
    "    print(p)"
   ]
  },
  {
   "cell_type": "code",
   "execution_count": null,
   "metadata": {},
   "outputs": [],
   "source": []
  }
 ],
 "metadata": {
  "kernelspec": {
   "display_name": "Python 3",
   "language": "python",
   "name": "python3"
  },
  "language_info": {
   "codemirror_mode": {
    "name": "ipython",
    "version": 3
   },
   "file_extension": ".py",
   "mimetype": "text/x-python",
   "name": "python",
   "nbconvert_exporter": "python",
   "pygments_lexer": "ipython3",
   "version": "3.7.4"
  }
 },
 "nbformat": 4,
 "nbformat_minor": 2
}
